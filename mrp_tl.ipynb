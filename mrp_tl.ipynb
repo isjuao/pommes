{
 "cells": [
  {
   "cell_type": "code",
   "execution_count": 2,
   "id": "ScaAB4S3vBVp",
   "metadata": {
    "colab": {
     "base_uri": "https://localhost:8080/",
     "height": 1000
    },
    "id": "ScaAB4S3vBVp",
    "outputId": "5e328fe0-0882-45c5-b724-0f959606fcf8"
   },
   "outputs": [
    {
     "name": "stdout",
     "output_type": "stream",
     "text": [
      "Defaulting to user installation because normal site-packages is not writeable\n",
      "Collecting deeplabcut[modelzoo,tf]\n",
      "  Downloading deeplabcut-2.3.5-py3-none-any.whl (1.4 MB)\n",
      "\u001b[2K     \u001b[90m━━━━━━━━━━━━━━━━━━━━━━━━━━━━━━━━━━━━━━━━\u001b[0m \u001b[32m1.4/1.4 MB\u001b[0m \u001b[31m16.2 MB/s\u001b[0m eta \u001b[36m0:00:00\u001b[0m00:01\u001b[0m00:01\u001b[0m\n",
      "\u001b[?25hCollecting tensorpack>=0.11\n",
      "  Downloading tensorpack-0.11-py2.py3-none-any.whl (296 kB)\n",
      "\u001b[2K     \u001b[90m━━━━━━━━━━━━━━━━━━━━━━━━━━━━━━━━━━━━━━\u001b[0m \u001b[32m296.3/296.3 KB\u001b[0m \u001b[31m11.4 MB/s\u001b[0m eta \u001b[36m0:00:00\u001b[0m\n",
      "\u001b[?25hRequirement already satisfied: tables>=3.7.0 in /uoa/home/t08io22/.local/lib/python3.9/site-packages (from deeplabcut[modelzoo,tf]) (3.8.0)\n",
      "Collecting filterpy>=1.4.4\n",
      "  Downloading filterpy-1.4.5.zip (177 kB)\n",
      "\u001b[2K     \u001b[90m━━━━━━━━━━━━━━━━━━━━━━━━━━━━━━━━━━━━━━━\u001b[0m \u001b[32m178.0/178.0 KB\u001b[0m \u001b[31m8.7 MB/s\u001b[0m eta \u001b[36m0:00:00\u001b[0m\n",
      "\u001b[?25h  Preparing metadata (setup.py) ... \u001b[?25ldone\n",
      "\u001b[?25hCollecting scikit-image>=0.17\n",
      "  Downloading scikit_image-0.21.0-cp39-cp39-manylinux_2_17_x86_64.manylinux2014_x86_64.whl (13.8 MB)\n",
      "\u001b[2K     \u001b[90m━━━━━━━━━━━━━━━━━━━━━━━━━━━━━━━━━━━━━━━━\u001b[0m \u001b[32m13.8/13.8 MB\u001b[0m \u001b[31m29.7 MB/s\u001b[0m eta \u001b[36m0:00:00\u001b[0m00:01\u001b[0m00:01\u001b[0m\n",
      "\u001b[?25hCollecting tf-slim>=1.1.0\n",
      "  Downloading tf_slim-1.1.0-py2.py3-none-any.whl (352 kB)\n",
      "\u001b[2K     \u001b[90m━━━━━━━━━━━━━━━━━━━━━━━━━━━━━━━━━━━━━━\u001b[0m \u001b[32m352.1/352.1 KB\u001b[0m \u001b[31m17.0 MB/s\u001b[0m eta \u001b[36m0:00:00\u001b[0m\n",
      "\u001b[?25hCollecting dlclibrary\n",
      "  Downloading dlclibrary-0.0.3-py3-none-any.whl (14 kB)\n",
      "Requirement already satisfied: tqdm in /opt/software/uoa/python-pkgs/3.9/pypi/lib/python3.9/site-packages (from deeplabcut[modelzoo,tf]) (4.64.0)\n",
      "Collecting imgaug>=0.4.0\n",
      "  Downloading imgaug-0.4.0-py2.py3-none-any.whl (948 kB)\n",
      "\u001b[2K     \u001b[90m━━━━━━━━━━━━━━━━━━━━━━━━━━━━━━━━━━━━━━\u001b[0m \u001b[32m948.0/948.0 KB\u001b[0m \u001b[31m27.1 MB/s\u001b[0m eta \u001b[36m0:00:00\u001b[0m00:01\u001b[0m\n",
      "\u001b[?25hCollecting scikit-learn>=1.0\n",
      "  Downloading scikit_learn-1.2.2-cp39-cp39-manylinux_2_17_x86_64.manylinux2014_x86_64.whl (9.6 MB)\n",
      "\u001b[2K     \u001b[90m━━━━━━━━━━━━━━━━━━━━━━━━━━━━━━━━━━━━━━━━\u001b[0m \u001b[32m9.6/9.6 MB\u001b[0m \u001b[31m39.6 MB/s\u001b[0m eta \u001b[36m0:00:00\u001b[0m00:01\u001b[0m00:01\u001b[0m\n",
      "\u001b[?25hCollecting imageio-ffmpeg\n",
      "  Downloading imageio_ffmpeg-0.4.8-py3-none-manylinux2010_x86_64.whl (26.9 MB)\n",
      "\u001b[2K     \u001b[90m━━━━━━━━━━━━━━━━━━━━━━━━━━━━━━━━━━━━━━━━\u001b[0m \u001b[32m26.9/26.9 MB\u001b[0m \u001b[31m35.4 MB/s\u001b[0m eta \u001b[36m0:00:00\u001b[0m00:01\u001b[0m00:01\u001b[0m\n",
      "\u001b[?25hRequirement already satisfied: numba>=0.54 in /opt/software/uoa/python-pkgs/3.9/pypi/lib/python3.9/site-packages (from deeplabcut[modelzoo,tf]) (0.55.2)\n",
      "Collecting torch<=1.12\n",
      "  Downloading torch-1.12.0-cp39-cp39-manylinux1_x86_64.whl (776.3 MB)\n",
      "\u001b[2K     \u001b[90m━━━━━━━━━━━━━━━━━━━━━━━━━━━━━━━━━━━━━━━\u001b[0m \u001b[32m776.3/776.3 MB\u001b[0m \u001b[31m6.0 MB/s\u001b[0m eta \u001b[36m0:00:00\u001b[0m00:01\u001b[0m00:01\u001b[0m\n",
      "\u001b[?25hCollecting ruamel.yaml>=0.15.0\n",
      "  Downloading ruamel.yaml-0.17.31-py3-none-any.whl (112 kB)\n",
      "\u001b[2K     \u001b[90m━━━━━━━━━━━━━━━━━━━━━━━━━━━━━━━━━━━━━━━\u001b[0m \u001b[32m112.1/112.1 KB\u001b[0m \u001b[31m5.2 MB/s\u001b[0m eta \u001b[36m0:00:00\u001b[0m\n",
      "\u001b[?25hCollecting statsmodels>=0.11\n",
      "  Downloading statsmodels-0.14.0-cp39-cp39-manylinux_2_17_x86_64.manylinux2014_x86_64.whl (10.1 MB)\n",
      "\u001b[2K     \u001b[90m━━━━━━━━━━━━━━━━━━━━━━━━━━━━━━━━━━━━━━━━\u001b[0m \u001b[32m10.1/10.1 MB\u001b[0m \u001b[31m49.3 MB/s\u001b[0m eta \u001b[36m0:00:00\u001b[0m00:01\u001b[0m0:01\u001b[0m\n",
      "\u001b[?25hRequirement already satisfied: numpy>=1.18.5 in /opt/software/uoa/python-pkgs/3.9/pypi/lib/python3.9/site-packages (from deeplabcut[modelzoo,tf]) (1.22.4)\n",
      "Requirement already satisfied: Pillow>=7.1 in /opt/software/uoa/python-pkgs/3.9/pypi/lib/python3.9/site-packages (from deeplabcut[modelzoo,tf]) (9.1.1)\n",
      "Requirement already satisfied: pandas!=1.5.0,>=1.0.1 in /opt/software/uoa/python-pkgs/3.9/pypi/lib/python3.9/site-packages (from deeplabcut[modelzoo,tf]) (1.4.2)\n",
      "Requirement already satisfied: scipy>=1.4 in /opt/software/uoa/python-pkgs/3.9/pypi/lib/python3.9/site-packages (from deeplabcut[modelzoo,tf]) (1.8.1)\n",
      "Requirement already satisfied: networkx>=2.6 in /opt/software/uoa/python-pkgs/3.9/pypi/lib/python3.9/site-packages (from deeplabcut[modelzoo,tf]) (2.8.4)\n",
      "Requirement already satisfied: matplotlib>=3.3 in /opt/software/uoa/python-pkgs/3.9/pypi/lib/python3.9/site-packages (from deeplabcut[modelzoo,tf]) (3.5.2)\n",
      "Requirement already satisfied: pyyaml in /opt/software/uoa/python-pkgs/3.9/pypi/lib/python3.9/site-packages (from deeplabcut[modelzoo,tf]) (6.0)\n",
      "Collecting huggingface-hub\n",
      "  Downloading huggingface_hub-0.15.1-py3-none-any.whl (236 kB)\n",
      "\u001b[2K     \u001b[90m━━━━━━━━━━━━━━━━━━━━━━━━━━━━━━━━━━━━━━\u001b[0m \u001b[32m236.8/236.8 KB\u001b[0m \u001b[31m12.1 MB/s\u001b[0m eta \u001b[36m0:00:00\u001b[0m\n",
      "\u001b[?25hCollecting tensorflow<=2.10,>=2.0\n",
      "  Downloading tensorflow-2.10.0-cp39-cp39-manylinux_2_17_x86_64.manylinux2014_x86_64.whl (578.1 MB)\n",
      "\u001b[2K     \u001b[90m━━━━━━━━━━━━━━━━━━━━━━━━━━━━━━━━━━━━━━━\u001b[0m \u001b[32m578.1/578.1 MB\u001b[0m \u001b[31m7.8 MB/s\u001b[0m eta \u001b[36m0:00:00\u001b[0m00:01\u001b[0m00:01\u001b[0m\n",
      "\u001b[?25hCollecting imageio\n",
      "  Downloading imageio-2.31.0-py3-none-any.whl (313 kB)\n",
      "\u001b[2K     \u001b[90m━━━━━━━━━━━━━━━━━━━━━━━━━━━━━━━━━━━━━━\u001b[0m \u001b[32m313.2/313.2 KB\u001b[0m \u001b[31m11.4 MB/s\u001b[0m eta \u001b[36m0:00:00\u001b[0m\n",
      "\u001b[?25hCollecting Shapely\n",
      "  Downloading shapely-2.0.1-cp39-cp39-manylinux_2_17_x86_64.manylinux2014_x86_64.whl (2.3 MB)\n",
      "\u001b[2K     \u001b[90m━━━━━━━━━━━━━━━━━━━━━━━━━━━━━━━━━━━━━━━━\u001b[0m \u001b[32m2.3/2.3 MB\u001b[0m \u001b[31m50.8 MB/s\u001b[0m eta \u001b[36m0:00:00\u001b[0m:00:01\u001b[0m\n",
      "\u001b[?25hCollecting opencv-python\n",
      "  Downloading opencv_python-4.7.0.72-cp37-abi3-manylinux_2_17_x86_64.manylinux2014_x86_64.whl (61.8 MB)\n",
      "\u001b[2K     \u001b[90m━━━━━━━━━━━━━━━━━━━━━━━━━━━━━━━━━━━━━━━━\u001b[0m \u001b[32m61.8/61.8 MB\u001b[0m \u001b[31m3.9 MB/s\u001b[0m eta \u001b[36m0:00:00\u001b[0m00:01\u001b[0m00:03\u001b[0mm\n",
      "\u001b[?25hRequirement already satisfied: six in /opt/software/uoa/python-pkgs/3.9/pypi/lib/python3.9/site-packages (from imgaug>=0.4.0->deeplabcut[modelzoo,tf]) (1.16.0)\n",
      "Requirement already satisfied: fonttools>=4.22.0 in /opt/software/uoa/python-pkgs/3.9/pypi/lib/python3.9/site-packages (from matplotlib>=3.3->deeplabcut[modelzoo,tf]) (4.33.3)\n",
      "Requirement already satisfied: kiwisolver>=1.0.1 in /opt/software/uoa/python-pkgs/3.9/pypi/lib/python3.9/site-packages (from matplotlib>=3.3->deeplabcut[modelzoo,tf]) (1.4.3)\n",
      "Requirement already satisfied: pyparsing>=2.2.1 in /opt/software/uoa/python-pkgs/3.9/pypi/lib/python3.9/site-packages (from matplotlib>=3.3->deeplabcut[modelzoo,tf]) (3.0.9)\n",
      "Requirement already satisfied: python-dateutil>=2.7 in /opt/software/uoa/python-pkgs/3.9/pypi/lib/python3.9/site-packages (from matplotlib>=3.3->deeplabcut[modelzoo,tf]) (2.8.2)\n",
      "Requirement already satisfied: cycler>=0.10 in /opt/software/uoa/python-pkgs/3.9/pypi/lib/python3.9/site-packages (from matplotlib>=3.3->deeplabcut[modelzoo,tf]) (0.11.0)\n",
      "Requirement already satisfied: packaging>=20.0 in /opt/software/uoa/python-pkgs/3.9/pypi/lib/python3.9/site-packages (from matplotlib>=3.3->deeplabcut[modelzoo,tf]) (21.3)\n",
      "Requirement already satisfied: llvmlite<0.39,>=0.38.0rc1 in /opt/software/uoa/python-pkgs/3.9/pypi/lib/python3.9/site-packages (from numba>=0.54->deeplabcut[modelzoo,tf]) (0.38.1)\n",
      "Requirement already satisfied: setuptools in /opt/software/uoa/spack-sw/linux-rhel8-x86_64/gcc-12.1.0/python-3.9.12-u2o5ndnqcbr26nc573ubjrvv7o5n5wts/lib/python3.9/site-packages (from numba>=0.54->deeplabcut[modelzoo,tf]) (58.1.0)\n",
      "Requirement already satisfied: pytz>=2020.1 in /opt/software/uoa/python-pkgs/3.9/pypi/lib/python3.9/site-packages (from pandas!=1.5.0,>=1.0.1->deeplabcut[modelzoo,tf]) (2022.1)\n",
      "Collecting ruamel.yaml.clib>=0.2.7\n",
      "  Downloading ruamel.yaml.clib-0.2.7-cp39-cp39-manylinux_2_17_x86_64.manylinux2014_x86_64.manylinux_2_24_x86_64.whl (519 kB)\n",
      "\u001b[2K     \u001b[90m━━━━━━━━━━━━━━━━━━━━━━━━━━━━━━━━━━━━━━\u001b[0m \u001b[32m519.4/519.4 KB\u001b[0m \u001b[31m21.1 MB/s\u001b[0m eta \u001b[36m0:00:00\u001b[0m\n",
      "\u001b[?25hCollecting PyWavelets>=1.1.1\n",
      "  Downloading PyWavelets-1.4.1-cp39-cp39-manylinux_2_17_x86_64.manylinux2014_x86_64.whl (6.9 MB)\n",
      "\u001b[2K     \u001b[90m━━━━━━━━━━━━━━━━━━━━━━━━━━━━━━━━━━━━━━━━\u001b[0m \u001b[32m6.9/6.9 MB\u001b[0m \u001b[31m73.0 MB/s\u001b[0m eta \u001b[36m0:00:00\u001b[0m:00:01\u001b[0m00:01\u001b[0m\n",
      "\u001b[?25hCollecting lazy_loader>=0.2\n",
      "  Downloading lazy_loader-0.2-py3-none-any.whl (8.6 kB)\n",
      "Collecting tifffile>=2022.8.12\n",
      "  Downloading tifffile-2023.4.12-py3-none-any.whl (219 kB)\n",
      "\u001b[2K     \u001b[90m━━━━━━━━━━━━━━━━━━━━━━━━━━━━━━━━━━━━━━━\u001b[0m \u001b[32m219.4/219.4 KB\u001b[0m \u001b[31m8.8 MB/s\u001b[0m eta \u001b[36m0:00:00\u001b[0m\n"
     ]
    },
    {
     "name": "stdout",
     "output_type": "stream",
     "text": [
      "\u001b[?25hRequirement already satisfied: threadpoolctl>=2.0.0 in /opt/software/uoa/python-pkgs/3.9/pypi/lib/python3.9/site-packages (from scikit-learn>=1.0->deeplabcut[modelzoo,tf]) (3.1.0)\n",
      "Collecting joblib>=1.1.1\n",
      "  Downloading joblib-1.2.0-py3-none-any.whl (297 kB)\n",
      "\u001b[2K     \u001b[90m━━━━━━━━━━━━━━━━━━━━━━━━━━━━━━━━━━━━━━━\u001b[0m \u001b[32m298.0/298.0 KB\u001b[0m \u001b[31m6.2 MB/s\u001b[0m eta \u001b[36m0:00:00\u001b[0m00:01\u001b[0m\n",
      "\u001b[?25hCollecting patsy>=0.5.2\n",
      "  Downloading patsy-0.5.3-py2.py3-none-any.whl (233 kB)\n",
      "\u001b[2K     \u001b[90m━━━━━━━━━━━━━━━━━━━━━━━━━━━━━━━━━━━━━━\u001b[0m \u001b[32m233.8/233.8 KB\u001b[0m \u001b[31m11.6 MB/s\u001b[0m eta \u001b[36m0:00:00\u001b[0m\n",
      "\u001b[?25hRequirement already satisfied: py-cpuinfo in /uoa/home/t08io22/.local/lib/python3.9/site-packages (from tables>=3.7.0->deeplabcut[modelzoo,tf]) (9.0.0)\n",
      "Requirement already satisfied: blosc2~=2.0.0 in /uoa/home/t08io22/.local/lib/python3.9/site-packages (from tables>=3.7.0->deeplabcut[modelzoo,tf]) (2.0.0)\n",
      "Requirement already satisfied: cython>=0.29.21 in /opt/software/uoa/python-pkgs/3.9/pypi/lib/python3.9/site-packages (from tables>=3.7.0->deeplabcut[modelzoo,tf]) (0.29.30)\n",
      "Requirement already satisfied: numexpr>=2.6.2 in /uoa/home/t08io22/.local/lib/python3.9/site-packages (from tables>=3.7.0->deeplabcut[modelzoo,tf]) (2.8.4)\n",
      "Collecting tensorflow-io-gcs-filesystem>=0.23.1\n",
      "  Downloading tensorflow_io_gcs_filesystem-0.32.0-cp39-cp39-manylinux_2_12_x86_64.manylinux2010_x86_64.whl (2.4 MB)\n",
      "\u001b[2K     \u001b[90m━━━━━━━━━━━━━━━━━━━━━━━━━━━━━━━━━━━━━━━━\u001b[0m \u001b[32m2.4/2.4 MB\u001b[0m \u001b[31m51.2 MB/s\u001b[0m eta \u001b[36m0:00:00\u001b[0m:00:01\u001b[0m\n",
      "\u001b[?25hRequirement already satisfied: termcolor>=1.1.0 in /opt/software/uoa/python-pkgs/3.9/pypi/lib/python3.9/site-packages (from tensorflow<=2.10,>=2.0->deeplabcut[modelzoo,tf]) (1.1.0)\n",
      "Requirement already satisfied: wrapt>=1.11.0 in /opt/software/uoa/python-pkgs/3.9/pypi/lib/python3.9/site-packages (from tensorflow<=2.10,>=2.0->deeplabcut[modelzoo,tf]) (1.14.1)\n",
      "Collecting tensorboard<2.11,>=2.10\n",
      "  Downloading tensorboard-2.10.1-py3-none-any.whl (5.9 MB)\n",
      "\u001b[2K     \u001b[90m━━━━━━━━━━━━━━━━━━━━━━━━━━━━━━━━━━━━━━━━\u001b[0m \u001b[32m5.9/5.9 MB\u001b[0m \u001b[31m65.7 MB/s\u001b[0m eta \u001b[36m0:00:00\u001b[0m:00:01\u001b[0m00:01\u001b[0m\n",
      "\u001b[?25hRequirement already satisfied: h5py>=2.9.0 in /opt/software/uoa/python-pkgs/3.9/pypi/lib/python3.9/site-packages (from tensorflow<=2.10,>=2.0->deeplabcut[modelzoo,tf]) (3.7.0)\n",
      "Requirement already satisfied: gast<=0.4.0,>=0.2.1 in /opt/software/uoa/python-pkgs/3.9/pypi/lib/python3.9/site-packages (from tensorflow<=2.10,>=2.0->deeplabcut[modelzoo,tf]) (0.4.0)\n",
      "Requirement already satisfied: typing-extensions>=3.6.6 in /opt/software/uoa/spack-sw/linux-rhel8-x86_64/gcc-12.1.0/python-3.9.12-u2o5ndnqcbr26nc573ubjrvv7o5n5wts/lib/python3.9/site-packages (from tensorflow<=2.10,>=2.0->deeplabcut[modelzoo,tf]) (4.4.0)\n",
      "Requirement already satisfied: keras-preprocessing>=1.1.1 in /opt/software/uoa/python-pkgs/3.9/pypi/lib/python3.9/site-packages (from tensorflow<=2.10,>=2.0->deeplabcut[modelzoo,tf]) (1.1.2)\n",
      "Collecting tensorflow-estimator<2.11,>=2.10.0\n",
      "  Downloading tensorflow_estimator-2.10.0-py2.py3-none-any.whl (438 kB)\n",
      "\u001b[2K     \u001b[90m━━━━━━━━━━━━━━━━━━━━━━━━━━━━━━━━━━━━━━\u001b[0m \u001b[32m438.7/438.7 KB\u001b[0m \u001b[31m18.5 MB/s\u001b[0m eta \u001b[36m0:00:00\u001b[0m\n",
      "\u001b[?25hRequirement already satisfied: opt-einsum>=2.3.2 in /opt/software/uoa/python-pkgs/3.9/pypi/lib/python3.9/site-packages (from tensorflow<=2.10,>=2.0->deeplabcut[modelzoo,tf]) (3.3.0)\n",
      "Requirement already satisfied: absl-py>=1.0.0 in /opt/software/uoa/python-pkgs/3.9/pypi/lib/python3.9/site-packages (from tensorflow<=2.10,>=2.0->deeplabcut[modelzoo,tf]) (1.1.0)\n",
      "Collecting flatbuffers>=2.0\n",
      "  Downloading flatbuffers-23.5.26-py2.py3-none-any.whl (26 kB)\n",
      "Requirement already satisfied: grpcio<2.0,>=1.24.3 in /opt/software/uoa/python-pkgs/3.9/pypi/lib/python3.9/site-packages (from tensorflow<=2.10,>=2.0->deeplabcut[modelzoo,tf]) (1.46.3)\n",
      "Requirement already satisfied: libclang>=13.0.0 in /opt/software/uoa/python-pkgs/3.9/pypi/lib/python3.9/site-packages (from tensorflow<=2.10,>=2.0->deeplabcut[modelzoo,tf]) (14.0.1)\n",
      "Requirement already satisfied: google-pasta>=0.1.1 in /opt/software/uoa/python-pkgs/3.9/pypi/lib/python3.9/site-packages (from tensorflow<=2.10,>=2.0->deeplabcut[modelzoo,tf]) (0.2.0)\n",
      "Collecting keras<2.11,>=2.10.0\n",
      "  Downloading keras-2.10.0-py2.py3-none-any.whl (1.7 MB)\n",
      "\u001b[2K     \u001b[90m━━━━━━━━━━━━━━━━━━━━━━━━━━━━━━━━━━━━━━━━\u001b[0m \u001b[32m1.7/1.7 MB\u001b[0m \u001b[31m43.4 MB/s\u001b[0m eta \u001b[36m0:00:00\u001b[0m:00:01\u001b[0m\n",
      "\u001b[?25hRequirement already satisfied: protobuf<3.20,>=3.9.2 in /opt/software/uoa/python-pkgs/3.9/pypi/lib/python3.9/site-packages (from tensorflow<=2.10,>=2.0->deeplabcut[modelzoo,tf]) (3.19.4)\n",
      "Requirement already satisfied: astunparse>=1.6.0 in /opt/software/uoa/python-pkgs/3.9/pypi/lib/python3.9/site-packages (from tensorflow<=2.10,>=2.0->deeplabcut[modelzoo,tf]) (1.6.3)\n",
      "Requirement already satisfied: msgpack>=0.5.2 in /uoa/home/t08io22/.local/lib/python3.9/site-packages (from tensorpack>=0.11->deeplabcut[modelzoo,tf]) (1.0.5)\n",
      "Requirement already satisfied: pyzmq>=16 in /opt/software/uoa/python-pkgs/3.9/jupyter/8.4.0/lib/python3.9/site-packages (from tensorpack>=0.11->deeplabcut[modelzoo,tf]) (23.2.0)\n",
      "Requirement already satisfied: psutil>=5 in /opt/software/uoa/python-pkgs/3.9/jupyter/8.4.0/lib/python3.9/site-packages (from tensorpack>=0.11->deeplabcut[modelzoo,tf]) (5.9.1)\n",
      "Collecting msgpack-numpy>=0.4.4.2\n",
      "  Downloading msgpack_numpy-0.4.8-py2.py3-none-any.whl (6.9 kB)\n",
      "Collecting tabulate>=0.7.7\n",
      "  Downloading tabulate-0.9.0-py3-none-any.whl (35 kB)\n",
      "Requirement already satisfied: requests in /opt/software/uoa/python-pkgs/3.9/pypi/lib/python3.9/site-packages (from huggingface-hub->deeplabcut[modelzoo,tf]) (2.28.0)\n",
      "Collecting fsspec\n",
      "  Downloading fsspec-2023.5.0-py3-none-any.whl (160 kB)\n",
      "\u001b[2K     \u001b[90m━━━━━━━━━━━━━━━━━━━━━━━━━━━━━━━━━━━━━━━\u001b[0m \u001b[32m160.1/160.1 KB\u001b[0m \u001b[31m8.0 MB/s\u001b[0m eta \u001b[36m0:00:00\u001b[0m\n",
      "\u001b[?25hRequirement already satisfied: filelock in /opt/software/uoa/python-pkgs/3.9/pypi/lib/python3.9/site-packages (from huggingface-hub->deeplabcut[modelzoo,tf]) (3.8.0)\n",
      "Requirement already satisfied: wheel<1.0,>=0.23.0 in /opt/software/uoa/python-pkgs/3.9/pypi/lib/python3.9/site-packages (from astunparse>=1.6.0->tensorflow<=2.10,>=2.0->deeplabcut[modelzoo,tf]) (0.37.1)\n",
      "Requirement already satisfied: google-auth<3,>=1.6.3 in /opt/software/uoa/python-pkgs/3.9/pypi/lib/python3.9/site-packages (from tensorboard<2.11,>=2.10->tensorflow<=2.10,>=2.0->deeplabcut[modelzoo,tf]) (2.8.0)\n",
      "Requirement already satisfied: markdown>=2.6.8 in /opt/software/uoa/python-pkgs/3.9/pypi/lib/python3.9/site-packages (from tensorboard<2.11,>=2.10->tensorflow<=2.10,>=2.0->deeplabcut[modelzoo,tf]) (3.3.7)\n",
      "Requirement already satisfied: google-auth-oauthlib<0.5,>=0.4.1 in /opt/software/uoa/python-pkgs/3.9/pypi/lib/python3.9/site-packages (from tensorboard<2.11,>=2.10->tensorflow<=2.10,>=2.0->deeplabcut[modelzoo,tf]) (0.4.6)\n",
      "Requirement already satisfied: werkzeug>=1.0.1 in /opt/software/uoa/python-pkgs/3.9/pypi/lib/python3.9/site-packages (from tensorboard<2.11,>=2.10->tensorflow<=2.10,>=2.0->deeplabcut[modelzoo,tf]) (2.1.2)\n",
      "Collecting tensorboard-data-server<0.7.0,>=0.6.0\n",
      "  Downloading tensorboard_data_server-0.6.1-py3-none-manylinux2010_x86_64.whl (4.9 MB)\n",
      "\u001b[2K     \u001b[90m━━━━━━━━━━━━━━━━━━━━━━━━━━━━━━━━━━━━━━━━\u001b[0m \u001b[32m4.9/4.9 MB\u001b[0m \u001b[31m59.6 MB/s\u001b[0m eta \u001b[36m0:00:00\u001b[0m:00:01\u001b[0m00:01\u001b[0m\n",
      "\u001b[?25hCollecting tensorboard-plugin-wit>=1.6.0\n",
      "  Downloading tensorboard_plugin_wit-1.8.1-py3-none-any.whl (781 kB)\n",
      "\u001b[2K     \u001b[90m━━━━━━━━━━━━━━━━━━━━━━━━━━━━━━━━━━━━━━\u001b[0m \u001b[32m781.3/781.3 KB\u001b[0m \u001b[31m29.8 MB/s\u001b[0m eta \u001b[36m0:00:00\u001b[0m\n",
      "\u001b[?25hRequirement already satisfied: certifi>=2017.4.17 in /opt/software/uoa/python-pkgs/3.9/pypi/lib/python3.9/site-packages (from requests->huggingface-hub->deeplabcut[modelzoo,tf]) (2022.6.15)\n",
      "Requirement already satisfied: urllib3<1.27,>=1.21.1 in /opt/software/uoa/python-pkgs/3.9/pypi/lib/python3.9/site-packages (from requests->huggingface-hub->deeplabcut[modelzoo,tf]) (1.26.9)\n",
      "Requirement already satisfied: charset-normalizer~=2.0.0 in /opt/software/uoa/python-pkgs/3.9/pypi/lib/python3.9/site-packages (from requests->huggingface-hub->deeplabcut[modelzoo,tf]) (2.0.12)\n",
      "Requirement already satisfied: idna<4,>=2.5 in /opt/software/uoa/python-pkgs/3.9/pypi/lib/python3.9/site-packages (from requests->huggingface-hub->deeplabcut[modelzoo,tf]) (3.3)\n"
     ]
    },
    {
     "name": "stdout",
     "output_type": "stream",
     "text": [
      "Requirement already satisfied: rsa<5,>=3.1.4 in /opt/software/uoa/python-pkgs/3.9/pypi/lib/python3.9/site-packages (from google-auth<3,>=1.6.3->tensorboard<2.11,>=2.10->tensorflow<=2.10,>=2.0->deeplabcut[modelzoo,tf]) (4.8)\n",
      "Requirement already satisfied: cachetools<6.0,>=2.0.0 in /opt/software/uoa/python-pkgs/3.9/pypi/lib/python3.9/site-packages (from google-auth<3,>=1.6.3->tensorboard<2.11,>=2.10->tensorflow<=2.10,>=2.0->deeplabcut[modelzoo,tf]) (5.2.0)\n",
      "Requirement already satisfied: pyasn1-modules>=0.2.1 in /opt/software/uoa/python-pkgs/3.9/pypi/lib/python3.9/site-packages (from google-auth<3,>=1.6.3->tensorboard<2.11,>=2.10->tensorflow<=2.10,>=2.0->deeplabcut[modelzoo,tf]) (0.2.8)\n",
      "Requirement already satisfied: requests-oauthlib>=0.7.0 in /opt/software/uoa/python-pkgs/3.9/pypi/lib/python3.9/site-packages (from google-auth-oauthlib<0.5,>=0.4.1->tensorboard<2.11,>=2.10->tensorflow<=2.10,>=2.0->deeplabcut[modelzoo,tf]) (1.3.1)\n",
      "Requirement already satisfied: importlib-metadata>=4.4 in /opt/software/uoa/python-pkgs/3.9/pypi/lib/python3.9/site-packages (from markdown>=2.6.8->tensorboard<2.11,>=2.10->tensorflow<=2.10,>=2.0->deeplabcut[modelzoo,tf]) (4.11.4)\n",
      "Requirement already satisfied: zipp>=0.5 in /opt/software/uoa/python-pkgs/3.9/pypi/lib/python3.9/site-packages (from importlib-metadata>=4.4->markdown>=2.6.8->tensorboard<2.11,>=2.10->tensorflow<=2.10,>=2.0->deeplabcut[modelzoo,tf]) (3.8.0)\n",
      "Requirement already satisfied: pyasn1<0.5.0,>=0.4.6 in /opt/software/uoa/python-pkgs/3.9/pypi/lib/python3.9/site-packages (from pyasn1-modules>=0.2.1->google-auth<3,>=1.6.3->tensorboard<2.11,>=2.10->tensorflow<=2.10,>=2.0->deeplabcut[modelzoo,tf]) (0.4.8)\n",
      "Requirement already satisfied: oauthlib>=3.0.0 in /opt/software/uoa/python-pkgs/3.9/pypi/lib/python3.9/site-packages (from requests-oauthlib>=0.7.0->google-auth-oauthlib<0.5,>=0.4.1->tensorboard<2.11,>=2.10->tensorflow<=2.10,>=2.0->deeplabcut[modelzoo,tf]) (3.2.0)\n",
      "Building wheels for collected packages: filterpy\n",
      "  Building wheel for filterpy (setup.py) ... \u001b[?25ldone\n",
      "\u001b[?25h  Created wheel for filterpy: filename=filterpy-1.4.5-py3-none-any.whl size=110474 sha256=493a9ae358fc194b0aa087d66d9f1c2114baae349a5c52d4be2131b543fb93f8\n",
      "  Stored in directory: /uoa/home/t08io22/.cache/pip/wheels/53/e6/de/a09ea01e923aaf88b9f8c7c44329e857b2c1a31901167e55e6\n",
      "Successfully built filterpy\n",
      "Installing collected packages: tensorboard-plugin-wit, keras, flatbuffers, torch, tifffile, tf-slim, tensorflow-io-gcs-filesystem, tensorflow-estimator, tensorboard-data-server, tabulate, Shapely, ruamel.yaml.clib, PyWavelets, patsy, opencv-python, msgpack-numpy, lazy_loader, joblib, imageio-ffmpeg, imageio, fsspec, tensorpack, scikit-learn, scikit-image, ruamel.yaml, huggingface-hub, statsmodels, imgaug, filterpy, dlclibrary, tensorboard, deeplabcut, tensorflow\n",
      "Successfully installed PyWavelets-1.4.1 Shapely-2.0.1 deeplabcut-2.3.5 dlclibrary-0.0.3 filterpy-1.4.5 flatbuffers-23.5.26 fsspec-2023.5.0 huggingface-hub-0.15.1 imageio-2.31.0 imageio-ffmpeg-0.4.8 imgaug-0.4.0 joblib-1.2.0 keras-2.10.0 lazy_loader-0.2 msgpack-numpy-0.4.8 opencv-python-4.7.0.72 patsy-0.5.3 ruamel.yaml-0.17.31 ruamel.yaml.clib-0.2.7 scikit-image-0.21.0 scikit-learn-1.2.2 statsmodels-0.14.0 tabulate-0.9.0 tensorboard-2.10.1 tensorboard-data-server-0.6.1 tensorboard-plugin-wit-1.8.1 tensorflow-2.10.0 tensorflow-estimator-2.10.0 tensorflow-io-gcs-filesystem-0.32.0 tensorpack-0.11 tf-slim-1.1.0 tifffile-2023.4.12 torch-1.12.0\n",
      "\u001b[33mWARNING: You are using pip version 22.0.4; however, version 23.1.2 is available.\n",
      "You should consider upgrading via the '/opt/software/uoa/spack-sw/linux-rhel8-x86_64/gcc-12.1.0/python-3.9.12-u2o5ndnqcbr26nc573ubjrvv7o5n5wts/bin/python3.9 -m pip install --upgrade pip' command.\u001b[0m\u001b[33m\n",
      "\u001b[0m"
     ]
    }
   ],
   "source": [
    "!pip install deeplabcut[tf,modelzoo]"
   ]
  },
  {
   "cell_type": "code",
   "execution_count": 15,
   "id": "dbfb0891",
   "metadata": {
    "id": "dbfb0891"
   },
   "outputs": [],
   "source": [
    "import deeplabcut as dlc\n",
    "import tensorflow\n",
    "import os\n",
    "from pathlib import Path\n",
    "from datetime import date\n",
    "import pandas as pd\n",
    "\n",
    "video_path = os.getcwd() + \"/dummy-video.mp4\""
   ]
  },
  {
   "cell_type": "markdown",
   "id": "5f2e0cb1",
   "metadata": {
    "id": "5f2e0cb1"
   },
   "source": [
    "Load weights from pre-trained macaque model. (Question, does that work on different days as well or does it create a completely new model? And if so, is that bad?)"
   ]
  },
  {
   "cell_type": "code",
   "execution_count": 4,
   "id": "1b72371a",
   "metadata": {
    "colab": {
     "base_uri": "https://localhost:8080/",
     "height": 549,
     "referenced_widgets": [
      "e1eb9cf9735d486d9387cde84ab171c6",
      "a48d9de30ddf459aa5336875598bbe29",
      "6eb4b916a5474378a25ed3fe14a6b7cf",
      "cbcd3ba6bed1420eb3d944b4e16fd2f3",
      "7375a8cf081949a696e0076c100c4afa",
      "b4b51803fb314a82970dead9a0b39c9f",
      "96d5d8708f6d495dbeea3790037c4afc",
      "d1f1df6732a343789fe6a99f3c8af4b7",
      "ae4402332ffe403b9255be9e0326b268",
      "433bb754a9804b2082279408bcc0b475",
      "c6ca5ecece2443ddad8a8eab539ceef2"
     ]
    },
    "id": "1b72371a",
    "outputId": "1d625a92-9884-4c4b-a841-78a66f5b12df"
   },
   "outputs": [
    {
     "name": "stdout",
     "output_type": "stream",
     "text": [
      "Created \"/uoa/scratch/users/t08io22/pommes-test/mrp-scorer-2023-06-08/videos\"\n",
      "Created \"/uoa/scratch/users/t08io22/pommes-test/mrp-scorer-2023-06-08/labeled-data\"\n",
      "Created \"/uoa/scratch/users/t08io22/pommes-test/mrp-scorer-2023-06-08/training-datasets\"\n",
      "Created \"/uoa/scratch/users/t08io22/pommes-test/mrp-scorer-2023-06-08/dlc-models\"\n",
      "Copying the videos\n",
      "/uoa/scratch/users/t08io22/pommes-test/mrp-scorer-2023-06-08/videos/dummy-video.mp4\n",
      "Generated \"/uoa/scratch/users/t08io22/pommes-test/mrp-scorer-2023-06-08/config.yaml\"\n",
      "\n",
      "A new project with name mrp-scorer-2023-06-08 is created at /uoa/scratch/users/t08io22/pommes-test and a configurable file (config.yaml) is stored there. Change the parameters in this file to adapt to your project's needs.\n",
      " Once you have changed the configuration file, use the function 'extract_frames' to select frames for labeling.\n",
      ". [OPTIONAL] Use the function 'add_new_videos' to add new videos to your project (at any stage).\n",
      "Downloading weights...\n",
      "Loading.... full_macaque\n"
     ]
    },
    {
     "data": {
      "application/json": {
       "ascii": false,
       "bar_format": null,
       "colour": null,
       "elapsed": 0.049985408782958984,
       "initial": 0,
       "n": 0,
       "ncols": null,
       "nrows": 24,
       "postfix": null,
       "prefix": "Downloading (…)full_resnet50.tar.gz",
       "rate": null,
       "total": 182137107,
       "unit": "B",
       "unit_divisor": 1000,
       "unit_scale": true
      },
      "application/vnd.jupyter.widget-view+json": {
       "model_id": "ca0ca3e98e4346c38bdf18a7feed63c1",
       "version_major": 2,
       "version_minor": 0
      },
      "text/plain": [
       "Downloading (…)full_resnet50.tar.gz:   0%|          | 0.00/182M [00:00<?, ?B/s]"
      ]
     },
     "metadata": {},
     "output_type": "display_data"
    },
    {
     "name": "stdout",
     "output_type": "stream",
     "text": [
      "/uoa/scratch/users/t08io22/pommes-test/mrp-scorer-2023-06-08/dlc-models/iteration-0/mrpJun8-trainset95shuffle1/train/pose_cfg.yaml\n",
      "Analyzing all the videos in the directory...\n",
      "Filtering with median model /uoa/scratch/users/t08io22/pommes-test/mrp-scorer-2023-06-08/videos/dummy-video.mp4\n",
      "No unfiltered data file found in /uoa/scratch/users/t08io22/pommes-test/mrp-scorer-2023-06-08/videos for video dummy-video and scorer DLC_resnet50_mrpJun8shuffle1_1030000.\n",
      "Plotting results...\n",
      "Analyzing all the videos in the directory...\n",
      "Starting to process video: /uoa/scratch/users/t08io22/pommes-test/mrp-scorer-2023-06-08/videos/dummy-video.mp4\n",
      "Loading /uoa/scratch/users/t08io22/pommes-test/mrp-scorer-2023-06-08/videos/dummy-video.mp4 and data.\n",
      "No filtered data file found in /uoa/scratch/users/t08io22/pommes-test/mrp-scorer-2023-06-08/videos for video dummy-video and scorer DLC_resnet50_mrpJun8shuffle1_1030000.\n",
      "Analyzing all the videos in the directory...\n",
      "Loading  /uoa/scratch/users/t08io22/pommes-test/mrp-scorer-2023-06-08/videos/dummy-video.mp4 and data.\n",
      "No filtered data file found in /uoa/scratch/users/t08io22/pommes-test/mrp-scorer-2023-06-08/videos for video dummy-video and scorer DLC_resnet50_mrpJun8shuffle1_1030000.\n",
      "Plots could not be created for /uoa/scratch/users/t08io22/pommes-test/mrp-scorer-2023-06-08/videos/dummy-video.mp4. Videos were not evaluated with the current scorer DLC_resnet50_mrpJun8shuffle1_1030000.\n"
     ]
    }
   ],
   "source": [
    "config_path, train_config_path = dlc.create_pretrained_project(\n",
    "    \"mrp\",\n",
    "    \"scorer\",\n",
    "    [video_path],\n",
    "    videotype=\"mp4\",\n",
    "    model=\"full_macaque\",\n",
    "    analyzevideo=False,         # True: a labeled video is created, else only weights downloaded\n",
    "    createlabeledvideo=True,    # ? no documentation available\n",
    "    copy_videos=True,           # From Colab: must leave copy_videos=True (?)\n",
    ")"
   ]
  },
  {
   "cell_type": "markdown",
   "id": "000ccfd3",
   "metadata": {
    "id": "873f2961"
   },
   "source": [
    "Use command line functionality to load COCO annotation and image data into required labeled-data sub-directory."
   ]
  },
  {
   "cell_type": "code",
   "execution_count": 33,
   "id": "9230d544",
   "metadata": {},
   "outputs": [
    {
     "name": "stdout",
     "output_type": "stream",
     "text": [
      "/uoa/scratch/users/t08io22/pommes-test/mrp-scorer-2023-06-08/labeled-data/dummy-video\n"
     ]
    }
   ],
   "source": [
    "today = date.today()\n",
    "data_dir = Path(os.getcwd() + f\"/mrp-scorer-{today}/labeled-data/dummy-video\")\n",
    "print(data_dir)\n",
    "\n",
    "# /!\\ Attention, for storage reasons, both of these refer to a subfraction the validation set, not the 19GB train set...\n",
    "\n",
    "!cp coco2017_val_subset.h5 {data_dir / \"CollectedData_scorer.h5\"}\n",
    "assert train_file.is_file()"
   ]
  },
  {
   "cell_type": "code",
   "execution_count": 34,
   "id": "fa4d20fe",
   "metadata": {},
   "outputs": [],
   "source": [
    "# Extract list of files that are actually to copy\n",
    "df_val = pd.read_hdf(data_dir / \"CollectedData_scorer.h5\")\n",
    "file_paths = df_val.index.to_list()\n",
    "with open(\"files_to_copy.txt\", \"w\") as outfile:\n",
    "    outfile.writelines(map(lambda path: \"../coco/val2017/\" + os.path.basename(path) + \"\\n\", file_paths))\n",
    "\n",
    "!cat files_to_copy.txt | xargs -I % cp % {data_dir}\n",
    "# If copying the whole folder: !cp ../coco/val2017/* {data_dir}"
   ]
  },
  {
   "cell_type": "markdown",
   "id": "bd081d68",
   "metadata": {},
   "source": [
    "Assert COCO training data has been loaded into required folder. When run for the first time, this also plots the keypoint annotations with the frames."
   ]
  },
  {
   "cell_type": "code",
   "execution_count": 35,
   "id": "d3b5379f",
   "metadata": {
    "colab": {
     "base_uri": "https://localhost:8080/",
     "height": 454
    },
    "id": "d3b5379f",
    "outputId": "13e5f9b4-ab8b-4c7d-b6cf-cbffb68ed826"
   },
   "outputs": [
    {
     "name": "stdout",
     "output_type": "stream",
     "text": [
      "Creating images with labels by scorer.\n"
     ]
    },
    {
     "name": "stderr",
     "output_type": "stream",
     "text": [
      "100%|█████████████████████████████████████████████| 5/5 [00:00<00:00, 14.87it/s]"
     ]
    },
    {
     "name": "stdout",
     "output_type": "stream",
     "text": [
      "If all the labels are ok, then use the function 'create_training_dataset' to create the training dataset!\n"
     ]
    },
    {
     "name": "stderr",
     "output_type": "stream",
     "text": [
      "\n"
     ]
    }
   ],
   "source": [
    "dlc.check_labels(config_path)"
   ]
  },
  {
   "cell_type": "markdown",
   "id": "5e1efeb7",
   "metadata": {
    "id": "5e1efeb7"
   },
   "source": [
    "Here I am unsure: Do I need to run create_training_dataset? I would like to keep the splits as defined by COCO, because this prevents bias introduction. However, as for data, this step will create a .mat file, which contains the\n",
    "address of the images as well as the target postures, and a .pickle file, which contains the meta\n",
    "information about the training dataset - DLC probably requires this.\n",
    "\n",
    "So the solution I think I will go with is to use create_training_dataset and create a training dataset with default settings, grab that h5 or csv, and figure out the indices of the images I want in training/testing.\n",
    "\n",
    "After doing that, I should know which indices to enter here:\n",
    "\n",
    "/!\\ AFTER EXPERIMENTING, it seems like it chooses them lexicographically by integer (not the \"true\" index of the h5 file), so I would have to merge train/test, order them lexicographically while somehow marking which is train and which is test, and then find out the indices and hand them to create_training_dataset"
   ]
  },
  {
   "cell_type": "code",
   "execution_count": 37,
   "id": "cdf843af",
   "metadata": {
    "id": "cdf843af"
   },
   "outputs": [
    {
     "name": "stdout",
     "output_type": "stream",
     "text": [
      "You passed a split with the following fraction: 71%\n"
     ]
    },
    {
     "name": "stderr",
     "output_type": "stream",
     "text": [
      "/uoa/home/t08io22/.local/lib/python3.9/site-packages/deeplabcut/generate_training_dataset/trainingsetmanipulation.py:951: FutureWarning: elementwise comparison failed; returning scalar instead, but in the future will perform elementwise comparison\n",
      "  train_inds = train_inds[train_inds != -1]\n",
      "/uoa/home/t08io22/.local/lib/python3.9/site-packages/deeplabcut/generate_training_dataset/trainingsetmanipulation.py:953: FutureWarning: elementwise comparison failed; returning scalar instead, but in the future will perform elementwise comparison\n",
      "  test_inds = test_inds[test_inds != -1]\n"
     ]
    },
    {
     "ename": "IndexError",
     "evalue": "arrays used as indices must be of integer (or boolean) type",
     "output_type": "error",
     "traceback": [
      "\u001b[0;31m---------------------------------------------------------------------------\u001b[0m",
      "\u001b[0;31mIndexError\u001b[0m                                Traceback (most recent call last)",
      "Input \u001b[0;32mIn [37]\u001b[0m, in \u001b[0;36m<cell line: 11>\u001b[0;34m()\u001b[0m\n\u001b[1;32m      8\u001b[0m full_testIndices \u001b[38;5;241m=\u001b[39m [\u001b[38;5;124m'\u001b[39m\u001b[38;5;124mlabeled-data/dummy-video/000000142620.jpg\u001b[39m\u001b[38;5;124m'\u001b[39m, \u001b[38;5;124m'\u001b[39m\u001b[38;5;124mlabeled-data/dummy-video/000000163682.jpg\u001b[39m\u001b[38;5;124m'\u001b[39m]\n\u001b[1;32m      9\u001b[0m testIndices \u001b[38;5;241m=\u001b[39m [\u001b[38;5;241m0\u001b[39m, \u001b[38;5;241m1\u001b[39m,]\n\u001b[0;32m---> 11\u001b[0m \u001b[43mdlc\u001b[49m\u001b[38;5;241;43m.\u001b[39;49m\u001b[43mcreate_training_dataset\u001b[49m\u001b[43m(\u001b[49m\u001b[43mconfig\u001b[49m\u001b[38;5;241;43m=\u001b[39;49m\u001b[43mconfig_path\u001b[49m\u001b[43m,\u001b[49m\u001b[43m \u001b[49m\u001b[43mtrainIndices\u001b[49m\u001b[38;5;241;43m=\u001b[39;49m\u001b[43m[\u001b[49m\u001b[43mfull_trainIndices\u001b[49m\u001b[43m,\u001b[49m\u001b[43m]\u001b[49m\u001b[43m,\u001b[49m\u001b[43m \u001b[49m\u001b[43mtestIndices\u001b[49m\u001b[38;5;241;43m=\u001b[39;49m\u001b[43m[\u001b[49m\u001b[43mfull_testIndices\u001b[49m\u001b[43m,\u001b[49m\u001b[43m]\u001b[49m\u001b[43m,\u001b[49m\u001b[43m)\u001b[49m\n",
      "File \u001b[0;32m~/.local/lib/python3.9/site-packages/deeplabcut/generate_training_dataset/trainingsetmanipulation.py:996\u001b[0m, in \u001b[0;36mcreate_training_dataset\u001b[0;34m(config, num_shuffles, Shuffles, windows2linux, userfeedback, trainIndices, testIndices, net_type, augmenter_type, posecfg_template)\u001b[0m\n\u001b[1;32m    986\u001b[0m (\n\u001b[1;32m    987\u001b[0m     datafilename,\n\u001b[1;32m    988\u001b[0m     metadatafilename,\n\u001b[1;32m    989\u001b[0m ) \u001b[38;5;241m=\u001b[39m auxiliaryfunctions\u001b[38;5;241m.\u001b[39mget_data_and_metadata_filenames(\n\u001b[1;32m    990\u001b[0m     trainingsetfolder, trainFraction, shuffle, cfg\n\u001b[1;32m    991\u001b[0m )\n\u001b[1;32m    993\u001b[0m \u001b[38;5;66;03m################################################################################\u001b[39;00m\n\u001b[1;32m    994\u001b[0m \u001b[38;5;66;03m# Saving data file (convert to training file for deeper cut (*.mat))\u001b[39;00m\n\u001b[1;32m    995\u001b[0m \u001b[38;5;66;03m################################################################################\u001b[39;00m\n\u001b[0;32m--> 996\u001b[0m data, MatlabData \u001b[38;5;241m=\u001b[39m \u001b[43mformat_training_data\u001b[49m\u001b[43m(\u001b[49m\n\u001b[1;32m    997\u001b[0m \u001b[43m    \u001b[49m\u001b[43mData\u001b[49m\u001b[43m,\u001b[49m\u001b[43m \u001b[49m\u001b[43mtrainIndices\u001b[49m\u001b[43m,\u001b[49m\u001b[43m \u001b[49m\u001b[43mnbodyparts\u001b[49m\u001b[43m,\u001b[49m\u001b[43m \u001b[49m\u001b[43mproject_path\u001b[49m\n\u001b[1;32m    998\u001b[0m \u001b[43m\u001b[49m\u001b[43m)\u001b[49m\n\u001b[1;32m    999\u001b[0m sio\u001b[38;5;241m.\u001b[39msavemat(\n\u001b[1;32m   1000\u001b[0m     os\u001b[38;5;241m.\u001b[39mpath\u001b[38;5;241m.\u001b[39mjoin(project_path, datafilename), {\u001b[38;5;124m\"\u001b[39m\u001b[38;5;124mdataset\u001b[39m\u001b[38;5;124m\"\u001b[39m: MatlabData}\n\u001b[1;32m   1001\u001b[0m )\n\u001b[1;32m   1003\u001b[0m \u001b[38;5;66;03m################################################################################\u001b[39;00m\n\u001b[1;32m   1004\u001b[0m \u001b[38;5;66;03m# Saving metadata (Pickle file)\u001b[39;00m\n\u001b[1;32m   1005\u001b[0m \u001b[38;5;66;03m################################################################################\u001b[39;00m\n",
      "File \u001b[0;32m~/.local/lib/python3.9/site-packages/deeplabcut/generate_training_dataset/trainingsetmanipulation.py:687\u001b[0m, in \u001b[0;36mformat_training_data\u001b[0;34m(df, train_inds, nbodyparts, project_path)\u001b[0m\n\u001b[1;32m    685\u001b[0m \u001b[38;5;28;01mfor\u001b[39;00m i \u001b[38;5;129;01min\u001b[39;00m train_inds:\n\u001b[1;32m    686\u001b[0m     data \u001b[38;5;241m=\u001b[39m \u001b[38;5;28mdict\u001b[39m()\n\u001b[0;32m--> 687\u001b[0m     filename \u001b[38;5;241m=\u001b[39m \u001b[43mdf\u001b[49m\u001b[38;5;241;43m.\u001b[39;49m\u001b[43mindex\u001b[49m\u001b[43m[\u001b[49m\u001b[43mi\u001b[49m\u001b[43m]\u001b[49m\n\u001b[1;32m    688\u001b[0m     data[\u001b[38;5;124m\"\u001b[39m\u001b[38;5;124mimage\u001b[39m\u001b[38;5;124m\"\u001b[39m] \u001b[38;5;241m=\u001b[39m filename\n\u001b[1;32m    689\u001b[0m     img_shape \u001b[38;5;241m=\u001b[39m read_image_shape_fast(os\u001b[38;5;241m.\u001b[39mpath\u001b[38;5;241m.\u001b[39mjoin(project_path, \u001b[38;5;241m*\u001b[39mfilename))\n",
      "File \u001b[0;32m/opt/software/uoa/python-pkgs/3.9/pypi/lib/python3.9/site-packages/pandas/core/indexes/multi.py:2093\u001b[0m, in \u001b[0;36mMultiIndex.__getitem__\u001b[0;34m(self, key)\u001b[0m\n\u001b[1;32m   2090\u001b[0m \u001b[38;5;28;01melif\u001b[39;00m \u001b[38;5;28misinstance\u001b[39m(key, Index):\n\u001b[1;32m   2091\u001b[0m     key \u001b[38;5;241m=\u001b[39m np\u001b[38;5;241m.\u001b[39masarray(key)\n\u001b[0;32m-> 2093\u001b[0m new_codes \u001b[38;5;241m=\u001b[39m [level_codes[key] \u001b[38;5;28;01mfor\u001b[39;00m level_codes \u001b[38;5;129;01min\u001b[39;00m \u001b[38;5;28mself\u001b[39m\u001b[38;5;241m.\u001b[39mcodes]\n\u001b[1;32m   2095\u001b[0m \u001b[38;5;28;01mreturn\u001b[39;00m MultiIndex(\n\u001b[1;32m   2096\u001b[0m     levels\u001b[38;5;241m=\u001b[39m\u001b[38;5;28mself\u001b[39m\u001b[38;5;241m.\u001b[39mlevels,\n\u001b[1;32m   2097\u001b[0m     codes\u001b[38;5;241m=\u001b[39mnew_codes,\n\u001b[0;32m   (...)\u001b[0m\n\u001b[1;32m   2100\u001b[0m     verify_integrity\u001b[38;5;241m=\u001b[39m\u001b[38;5;28;01mFalse\u001b[39;00m,\n\u001b[1;32m   2101\u001b[0m )\n",
      "File \u001b[0;32m/opt/software/uoa/python-pkgs/3.9/pypi/lib/python3.9/site-packages/pandas/core/indexes/multi.py:2093\u001b[0m, in \u001b[0;36m<listcomp>\u001b[0;34m(.0)\u001b[0m\n\u001b[1;32m   2090\u001b[0m \u001b[38;5;28;01melif\u001b[39;00m \u001b[38;5;28misinstance\u001b[39m(key, Index):\n\u001b[1;32m   2091\u001b[0m     key \u001b[38;5;241m=\u001b[39m np\u001b[38;5;241m.\u001b[39masarray(key)\n\u001b[0;32m-> 2093\u001b[0m new_codes \u001b[38;5;241m=\u001b[39m [\u001b[43mlevel_codes\u001b[49m\u001b[43m[\u001b[49m\u001b[43mkey\u001b[49m\u001b[43m]\u001b[49m \u001b[38;5;28;01mfor\u001b[39;00m level_codes \u001b[38;5;129;01min\u001b[39;00m \u001b[38;5;28mself\u001b[39m\u001b[38;5;241m.\u001b[39mcodes]\n\u001b[1;32m   2095\u001b[0m \u001b[38;5;28;01mreturn\u001b[39;00m MultiIndex(\n\u001b[1;32m   2096\u001b[0m     levels\u001b[38;5;241m=\u001b[39m\u001b[38;5;28mself\u001b[39m\u001b[38;5;241m.\u001b[39mlevels,\n\u001b[1;32m   2097\u001b[0m     codes\u001b[38;5;241m=\u001b[39mnew_codes,\n\u001b[0;32m   (...)\u001b[0m\n\u001b[1;32m   2100\u001b[0m     verify_integrity\u001b[38;5;241m=\u001b[39m\u001b[38;5;28;01mFalse\u001b[39;00m,\n\u001b[1;32m   2101\u001b[0m )\n",
      "\u001b[0;31mIndexError\u001b[0m: arrays used as indices must be of integer (or boolean) type"
     ]
    }
   ],
   "source": [
    "full_trainIndices = ['labeled-data/dummy-video/000000142620.jpg',\n",
    " 'labeled-data/dummy-video/000000209753.jpg',\n",
    " 'labeled-data/dummy-video/000000275058.jpg',\n",
    " 'labeled-data/dummy-video/000000163682.jpg',\n",
    " 'labeled-data/dummy-video/000000467315.jpg']\n",
    "trainIndices = [2, 3, 4,]\n",
    "\n",
    "full_testIndices = ['labeled-data/dummy-video/000000142620.jpg', 'labeled-data/dummy-video/000000163682.jpg']\n",
    "testIndices = [0, 1,]\n",
    "\n",
    "dlc.create_training_dataset(config=config_path, trainIndices=[trainIndices,], testIndices=[testIndices,],)\n",
    "# I assume we do not want to benchmark, so I leave shuffle=1\n",
    "# Remember to set net_type and augmenter_type\n",
    "# /!\\ Potentially, I need to set the \"iteration\" in the config file (\"change iteration to a higher value (+1) in config.yaml\")"
   ]
  },
  {
   "cell_type": "markdown",
   "id": "62b2fb8e",
   "metadata": {
    "id": "62b2fb8e"
   },
   "source": [
    "Actual training can start now.\n",
    "\n",
    "/!\\ \"change the init_weights in pose_cfg.yaml (of the latest iteration) to the path to pretrained model (to last snapshot, don’t include the extension) and then run train_network with keepdeconvweights=False\"?\n",
    "\n",
    "(Mind \"trainingsetindex\": Integer specifying which training set fraction to use. By default it is the first index value listed Note that Training Fraction is a list in config.yaml)\n",
    "\n",
    "--> Question: How can we optimize the model, e.g. using the validation split? Is it through shuffling? Potentially check out create_training_model_comparison"
   ]
  },
  {
   "cell_type": "code",
   "execution_count": null,
   "id": "c2dd4229",
   "metadata": {
    "id": "c2dd4229"
   },
   "outputs": [],
   "source": [
    "dlc.train_network(config_path) # set keepdeconvweights=False?"
   ]
  },
  {
   "cell_type": "markdown",
   "id": "718413b9",
   "metadata": {
    "id": "718413b9"
   },
   "source": [
    "Now, we can evaluate the performance using the mean average Euclidean error (MAE; which is proportional to the average root mean square error) between the manual labels and the ones predicted. Hopefully, DLC automatically uses the correct test split. Results are stored as .csv file in a subdirectory under evaluation-results, displayed for all pairs and only likely pairs (>p-cutoff). (This helps to exclude, for example, occluded body parts.)"
   ]
  },
  {
   "cell_type": "code",
   "execution_count": null,
   "id": "c4222810",
   "metadata": {
    "id": "c4222810"
   },
   "outputs": [],
   "source": [
    "dlc.evaluate_network(config_path, plotting=True) # setting plotting to True plots all the testing and training frames with the manual and predicted labels"
   ]
  },
  {
   "cell_type": "markdown",
   "id": "02560730",
   "metadata": {
    "id": "02560730"
   },
   "source": [
    "DLC offers much more: here goes the optional stuff included in demos I read."
   ]
  },
  {
   "cell_type": "code",
   "execution_count": null,
   "id": "121cd022",
   "metadata": {
    "id": "121cd022"
   },
   "outputs": [],
   "source": [
    "# Optional (I guess?) Don't know if it works without the \"true\" videos\n",
    "dlc.analyze_videos(path_to_config, [video_path])\n",
    "\n",
    "# Optional (I guess?) Create labeled video, watch options\n",
    "dlc.create_labeled_video(path_to_config, [video_path])\n",
    "\n",
    "# Optional (I guess?) Plot trajectories of all body parts across entire video\n",
    "dlc.plot_trajectories(path_to_config, [video_path])\n",
    "\n",
    "# Optional: Extract outliers and refine labels\n",
    "dlc.extract_outlier_frames(path_to_config, [video_path])\n",
    "dlc.refine_labels(path_to_config)\n",
    "#(deeplabcut.label_frames(path_config_file), deeplabcut.check_labels(path_config_file))\n",
    "dlc.create_training_dataset(path_to_config) #?\n",
    "\n",
    "# => reiterate process, mind merge_datasets if labels refined!"
   ]
  }
 ],
 "metadata": {
  "colab": {
   "provenance": []
  },
  "kernelspec": {
   "display_name": "Python 3 (ipykernel)",
   "language": "python",
   "name": "python3"
  },
  "language_info": {
   "codemirror_mode": {
    "name": "ipython",
    "version": 3
   },
   "file_extension": ".py",
   "mimetype": "text/x-python",
   "name": "python",
   "nbconvert_exporter": "python",
   "pygments_lexer": "ipython3",
   "version": "3.9.12"
  },
  "widgets": {
   "application/vnd.jupyter.widget-state+json": {
    "433bb754a9804b2082279408bcc0b475": {
     "model_module": "@jupyter-widgets/base",
     "model_module_version": "1.2.0",
     "model_name": "LayoutModel",
     "state": {
      "_model_module": "@jupyter-widgets/base",
      "_model_module_version": "1.2.0",
      "_model_name": "LayoutModel",
      "_view_count": null,
      "_view_module": "@jupyter-widgets/base",
      "_view_module_version": "1.2.0",
      "_view_name": "LayoutView",
      "align_content": null,
      "align_items": null,
      "align_self": null,
      "border": null,
      "bottom": null,
      "display": null,
      "flex": null,
      "flex_flow": null,
      "grid_area": null,
      "grid_auto_columns": null,
      "grid_auto_flow": null,
      "grid_auto_rows": null,
      "grid_column": null,
      "grid_gap": null,
      "grid_row": null,
      "grid_template_areas": null,
      "grid_template_columns": null,
      "grid_template_rows": null,
      "height": null,
      "justify_content": null,
      "justify_items": null,
      "left": null,
      "margin": null,
      "max_height": null,
      "max_width": null,
      "min_height": null,
      "min_width": null,
      "object_fit": null,
      "object_position": null,
      "order": null,
      "overflow": null,
      "overflow_x": null,
      "overflow_y": null,
      "padding": null,
      "right": null,
      "top": null,
      "visibility": null,
      "width": null
     }
    },
    "6eb4b916a5474378a25ed3fe14a6b7cf": {
     "model_module": "@jupyter-widgets/controls",
     "model_module_version": "1.5.0",
     "model_name": "FloatProgressModel",
     "state": {
      "_dom_classes": [],
      "_model_module": "@jupyter-widgets/controls",
      "_model_module_version": "1.5.0",
      "_model_name": "FloatProgressModel",
      "_view_count": null,
      "_view_module": "@jupyter-widgets/controls",
      "_view_module_version": "1.5.0",
      "_view_name": "ProgressView",
      "bar_style": "success",
      "description": "",
      "description_tooltip": null,
      "layout": "IPY_MODEL_d1f1df6732a343789fe6a99f3c8af4b7",
      "max": 182137107,
      "min": 0,
      "orientation": "horizontal",
      "style": "IPY_MODEL_ae4402332ffe403b9255be9e0326b268",
      "value": 182137107
     }
    },
    "7375a8cf081949a696e0076c100c4afa": {
     "model_module": "@jupyter-widgets/base",
     "model_module_version": "1.2.0",
     "model_name": "LayoutModel",
     "state": {
      "_model_module": "@jupyter-widgets/base",
      "_model_module_version": "1.2.0",
      "_model_name": "LayoutModel",
      "_view_count": null,
      "_view_module": "@jupyter-widgets/base",
      "_view_module_version": "1.2.0",
      "_view_name": "LayoutView",
      "align_content": null,
      "align_items": null,
      "align_self": null,
      "border": null,
      "bottom": null,
      "display": null,
      "flex": null,
      "flex_flow": null,
      "grid_area": null,
      "grid_auto_columns": null,
      "grid_auto_flow": null,
      "grid_auto_rows": null,
      "grid_column": null,
      "grid_gap": null,
      "grid_row": null,
      "grid_template_areas": null,
      "grid_template_columns": null,
      "grid_template_rows": null,
      "height": null,
      "justify_content": null,
      "justify_items": null,
      "left": null,
      "margin": null,
      "max_height": null,
      "max_width": null,
      "min_height": null,
      "min_width": null,
      "object_fit": null,
      "object_position": null,
      "order": null,
      "overflow": null,
      "overflow_x": null,
      "overflow_y": null,
      "padding": null,
      "right": null,
      "top": null,
      "visibility": null,
      "width": null
     }
    },
    "96d5d8708f6d495dbeea3790037c4afc": {
     "model_module": "@jupyter-widgets/controls",
     "model_module_version": "1.5.0",
     "model_name": "DescriptionStyleModel",
     "state": {
      "_model_module": "@jupyter-widgets/controls",
      "_model_module_version": "1.5.0",
      "_model_name": "DescriptionStyleModel",
      "_view_count": null,
      "_view_module": "@jupyter-widgets/base",
      "_view_module_version": "1.2.0",
      "_view_name": "StyleView",
      "description_width": ""
     }
    },
    "a48d9de30ddf459aa5336875598bbe29": {
     "model_module": "@jupyter-widgets/controls",
     "model_module_version": "1.5.0",
     "model_name": "HTMLModel",
     "state": {
      "_dom_classes": [],
      "_model_module": "@jupyter-widgets/controls",
      "_model_module_version": "1.5.0",
      "_model_name": "HTMLModel",
      "_view_count": null,
      "_view_module": "@jupyter-widgets/controls",
      "_view_module_version": "1.5.0",
      "_view_name": "HTMLView",
      "description": "",
      "description_tooltip": null,
      "layout": "IPY_MODEL_b4b51803fb314a82970dead9a0b39c9f",
      "placeholder": "​",
      "style": "IPY_MODEL_96d5d8708f6d495dbeea3790037c4afc",
      "value": "Downloading (…)full_resnet50.tar.gz: 100%"
     }
    },
    "ae4402332ffe403b9255be9e0326b268": {
     "model_module": "@jupyter-widgets/controls",
     "model_module_version": "1.5.0",
     "model_name": "ProgressStyleModel",
     "state": {
      "_model_module": "@jupyter-widgets/controls",
      "_model_module_version": "1.5.0",
      "_model_name": "ProgressStyleModel",
      "_view_count": null,
      "_view_module": "@jupyter-widgets/base",
      "_view_module_version": "1.2.0",
      "_view_name": "StyleView",
      "bar_color": null,
      "description_width": ""
     }
    },
    "b4b51803fb314a82970dead9a0b39c9f": {
     "model_module": "@jupyter-widgets/base",
     "model_module_version": "1.2.0",
     "model_name": "LayoutModel",
     "state": {
      "_model_module": "@jupyter-widgets/base",
      "_model_module_version": "1.2.0",
      "_model_name": "LayoutModel",
      "_view_count": null,
      "_view_module": "@jupyter-widgets/base",
      "_view_module_version": "1.2.0",
      "_view_name": "LayoutView",
      "align_content": null,
      "align_items": null,
      "align_self": null,
      "border": null,
      "bottom": null,
      "display": null,
      "flex": null,
      "flex_flow": null,
      "grid_area": null,
      "grid_auto_columns": null,
      "grid_auto_flow": null,
      "grid_auto_rows": null,
      "grid_column": null,
      "grid_gap": null,
      "grid_row": null,
      "grid_template_areas": null,
      "grid_template_columns": null,
      "grid_template_rows": null,
      "height": null,
      "justify_content": null,
      "justify_items": null,
      "left": null,
      "margin": null,
      "max_height": null,
      "max_width": null,
      "min_height": null,
      "min_width": null,
      "object_fit": null,
      "object_position": null,
      "order": null,
      "overflow": null,
      "overflow_x": null,
      "overflow_y": null,
      "padding": null,
      "right": null,
      "top": null,
      "visibility": null,
      "width": null
     }
    },
    "c6ca5ecece2443ddad8a8eab539ceef2": {
     "model_module": "@jupyter-widgets/controls",
     "model_module_version": "1.5.0",
     "model_name": "DescriptionStyleModel",
     "state": {
      "_model_module": "@jupyter-widgets/controls",
      "_model_module_version": "1.5.0",
      "_model_name": "DescriptionStyleModel",
      "_view_count": null,
      "_view_module": "@jupyter-widgets/base",
      "_view_module_version": "1.2.0",
      "_view_name": "StyleView",
      "description_width": ""
     }
    },
    "cbcd3ba6bed1420eb3d944b4e16fd2f3": {
     "model_module": "@jupyter-widgets/controls",
     "model_module_version": "1.5.0",
     "model_name": "HTMLModel",
     "state": {
      "_dom_classes": [],
      "_model_module": "@jupyter-widgets/controls",
      "_model_module_version": "1.5.0",
      "_model_name": "HTMLModel",
      "_view_count": null,
      "_view_module": "@jupyter-widgets/controls",
      "_view_module_version": "1.5.0",
      "_view_name": "HTMLView",
      "description": "",
      "description_tooltip": null,
      "layout": "IPY_MODEL_433bb754a9804b2082279408bcc0b475",
      "placeholder": "​",
      "style": "IPY_MODEL_c6ca5ecece2443ddad8a8eab539ceef2",
      "value": " 182M/182M [00:02&lt;00:00, 71.4MB/s]"
     }
    },
    "d1f1df6732a343789fe6a99f3c8af4b7": {
     "model_module": "@jupyter-widgets/base",
     "model_module_version": "1.2.0",
     "model_name": "LayoutModel",
     "state": {
      "_model_module": "@jupyter-widgets/base",
      "_model_module_version": "1.2.0",
      "_model_name": "LayoutModel",
      "_view_count": null,
      "_view_module": "@jupyter-widgets/base",
      "_view_module_version": "1.2.0",
      "_view_name": "LayoutView",
      "align_content": null,
      "align_items": null,
      "align_self": null,
      "border": null,
      "bottom": null,
      "display": null,
      "flex": null,
      "flex_flow": null,
      "grid_area": null,
      "grid_auto_columns": null,
      "grid_auto_flow": null,
      "grid_auto_rows": null,
      "grid_column": null,
      "grid_gap": null,
      "grid_row": null,
      "grid_template_areas": null,
      "grid_template_columns": null,
      "grid_template_rows": null,
      "height": null,
      "justify_content": null,
      "justify_items": null,
      "left": null,
      "margin": null,
      "max_height": null,
      "max_width": null,
      "min_height": null,
      "min_width": null,
      "object_fit": null,
      "object_position": null,
      "order": null,
      "overflow": null,
      "overflow_x": null,
      "overflow_y": null,
      "padding": null,
      "right": null,
      "top": null,
      "visibility": null,
      "width": null
     }
    },
    "e1eb9cf9735d486d9387cde84ab171c6": {
     "model_module": "@jupyter-widgets/controls",
     "model_module_version": "1.5.0",
     "model_name": "HBoxModel",
     "state": {
      "_dom_classes": [],
      "_model_module": "@jupyter-widgets/controls",
      "_model_module_version": "1.5.0",
      "_model_name": "HBoxModel",
      "_view_count": null,
      "_view_module": "@jupyter-widgets/controls",
      "_view_module_version": "1.5.0",
      "_view_name": "HBoxView",
      "box_style": "",
      "children": [
       "IPY_MODEL_a48d9de30ddf459aa5336875598bbe29",
       "IPY_MODEL_6eb4b916a5474378a25ed3fe14a6b7cf",
       "IPY_MODEL_cbcd3ba6bed1420eb3d944b4e16fd2f3"
      ],
      "layout": "IPY_MODEL_7375a8cf081949a696e0076c100c4afa"
     }
    }
   }
  }
 },
 "nbformat": 4,
 "nbformat_minor": 5
}
